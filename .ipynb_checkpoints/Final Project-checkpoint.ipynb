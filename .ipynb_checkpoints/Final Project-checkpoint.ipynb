{
 "cells": [
  {
   "cell_type": "code",
   "execution_count": 61,
   "metadata": {
    "collapsed": true
   },
   "outputs": [],
   "source": [
    "import scrapy\n",
    "import json\n",
    "import requests\n",
    "import requests_cache\n",
    "import numpy as np\n",
    "import pandas as pd\n",
    "import seaborn as sns\n",
    "import urlparse\n",
    "import csv\n",
    "import os\n",
    "import os.path\n",
    "from bs4 import BeautifulSoup\n",
    "import sys\n",
    "from lxml import html\n",
    "import lxml.html as lx\n",
    "\n",
    "requests_cache.install_cache('demo_cache')"
   ]
  },
  {
   "cell_type": "code",
   "execution_count": 62,
   "metadata": {
    "collapsed": true
   },
   "outputs": [],
   "source": [
    "def Box_search(year):\n",
    "    \n",
    "    base_url = 'http://www.boxofficemojo.com/yearly/chart/?yr='\n",
    "    url = base_url + str(year)\n",
    "    page = requests.get(url)\n",
    "    soup = BeautifulSoup(page.text, 'lxml')\n",
    " \n",
    "    res_2 = soup.find_all('td')\n",
    "    names = []\n",
    "    box = []\n",
    "    studio = []\n",
    "    for i in range(0,100):\n",
    "        \n",
    "        names.append(res_2[21+9*i].find_all('b')[0].text)\n",
    "        box.append(res_2[23+9*i].find_all('b')[0].text)\n",
    "        studio.append(res_2[22+9*i].find_all('a')[0].text)\n",
    "        \n",
    "        params = {'year':year, 'name':names, 'box':box,}\n",
    "    \n",
    "    return pd.DataFrame(params)"
   ]
  },
  {
   "cell_type": "code",
   "execution_count": 63,
   "metadata": {
    "collapsed": false
   },
   "outputs": [],
   "source": [
    "def Popular_Movies_search(year,pages,num):\n",
    "    count = 0\n",
    "    names = []\n",
    "    \n",
    "    for i in range(1,(pages+1)):\n",
    "        url = \"http://www.imdb.com/search/title?sort=moviemeter,asc&title_type=feature&year=\" + str(year) + \",\" +str(year) + \"&\" + \"page=\" + str(i) + \"&\" + \"ref_=adv_prv\"        \n",
    "        r = requests.get(url)\n",
    "        soup = BeautifulSoup(r.content, \"html.parser\")\n",
    "        search_results = soup.find_all(\"p\", class_=\"sort-num_votes-visible\")\n",
    "        vote = int(search_results[0].find_all('span')[1].text.replace(',',''))\n",
    "        soup = BeautifulSoup(r.content, \"html.parser\")\n",
    "        search_results = soup.find_all(\"div\", class_=\"lister-item-content\")\n",
    "        \n",
    "\n",
    "        for result in search_results:\n",
    "            try:\n",
    "                vote = int(result.find_all('p')[3].find_all('span')[1].text.replace(',',''))\n",
    "                if vote < 10000:\n",
    "                    continue\n",
    "            except:\n",
    "                continue\n",
    "            header = result.find(\"h3\", class_=\"lister-item-header\")\n",
    "            title = header.a\n",
    "            b = title.get_text().encode('utf-8')\n",
    "            names.append(b)\n",
    "            count = count + 1\n",
    "            if count == num:\n",
    "                return names\n",
    "            \n",
    "    return names"
   ]
  },
  {
   "cell_type": "code",
   "execution_count": 64,
   "metadata": {
    "collapsed": true
   },
   "outputs": [],
   "source": [
    "def Movie_info_search(term):\n",
    "    \n",
    "    url = 'http://www.omdbapi.com/'\n",
    "    \n",
    "    params = {'t':term}\n",
    "    a_final = \"&\".join(\"{}={}\".format(a,b) for a,b in params.items())\n",
    "    url_final = url + '?' + a_final\n",
    "    \n",
    "    response = requests.get(url_final)\n",
    "    js = response.json()\n",
    "    \n",
    "    return js"
   ]
  },
  {
   "cell_type": "code",
   "execution_count": 69,
   "metadata": {
    "collapsed": false
   },
   "outputs": [],
   "source": [
    "def Scoring_search(movie):\n",
    "    \n",
    "    imdb = Movie_info_search(movie).values()[-1]\n",
    "    url = 'http://www.imdb.com/title/' + str(imdb) + '/ratings?ref_=tt_ov_rt'\n",
    "    r = requests.get(url)\n",
    "    soup = BeautifulSoup(r.content, \"html.parser\")\n",
    "    res_2 = soup.find_all('td')\n",
    "    \n",
    "    rates = []\n",
    "    try:\n",
    "        for i in xrange(14):\n",
    "            number = str(res_2[37 + 3*i].text.replace(u'\\xa0',u''))\n",
    "            rate = str(res_2[38 + 3*i].find_all('img')[0].text.replace(u'\\xa0',u''))\n",
    "            rates.append([number + ',' + rate])\n",
    "    except:\n",
    "        return None\n",
    "    params = {'males':rates[0], 'females':rates[1],'<18':rates[2], 'males<18':rates[3],'females<18':rates[4], '18-29':rates[5],'males 18-29':rates[6], 'females 18-29':rates[7],'30-44':rates[8],'males 30-44':rates[9], 'females 30-44':rates[10], '45+':rates[11],'males 45+':rates[12], 'females 45+':rates[13]}\n",
    "    return params"
   ]
  },
  {
   "cell_type": "code",
   "execution_count": 71,
   "metadata": {
    "collapsed": false
   },
   "outputs": [
    {
     "data": {
      "text/plain": [
       "{'18-29': ['370469,7.8'],\n",
       " '30-44': ['316818,7.9'],\n",
       " '45+': ['60290,7.9'],\n",
       " '<18': ['3290,7.7'],\n",
       " 'females': ['143599,7.8'],\n",
       " 'females 18-29': ['78922,7.7'],\n",
       " 'females 30-44': ['47441,7.9'],\n",
       " 'females 45+': ['9709,8.0'],\n",
       " 'females<18': ['882,7.9'],\n",
       " 'males': ['633253,7.9'],\n",
       " 'males 18-29': ['288476,7.8'],\n",
       " 'males 30-44': ['266060,7.9'],\n",
       " 'males 45+': ['49694,7.9'],\n",
       " 'males<18': ['2385,7.6']}"
      ]
     },
     "execution_count": 71,
     "metadata": {},
     "output_type": "execute_result"
    }
   ],
   "source": [
    "Scoring_search('avatar')"
   ]
  },
  {
   "cell_type": "code",
   "execution_count": 132,
   "metadata": {
    "collapsed": false
   },
   "outputs": [],
   "source": [
    "def Comment_search(movie,gender):\n",
    "    comments = []\n",
    "    imdb = imdb = Movie_info_search(movie).values()[-1]\n",
    "    url = 'http://www.imdb.com/title/'+str(imdb)+'/reviews?filter=custom&spoiler=&vote_min=&vote_max=&gender='+gender+'&age_min=&age_max=&country=&order=score&custom=1'\n",
    "    r = requests.get(url)\n",
    "    soup = BeautifulSoup(r.content, \"html.parser\")\n",
    "    div = soup.find('div', attrs = {'id' : 'tn15content'}).find_all('p')\n",
    "    for contents in div:\n",
    "        \n",
    "        comments.append(contents.text.replace('\\n',' '))\n",
    "    \n",
    "    return comments\n",
    "    "
   ]
  },
  {
   "cell_type": "code",
   "execution_count": 133,
   "metadata": {
    "collapsed": false
   },
   "outputs": [
    {
     "data": {
      "text/plain": [
       "[u\" The last time, I felt like this, in a cinema, I was six years old and I was watching Star Wars. I never imagined, I would ever find that feeling again in a cinema. That sense of being transported to another world. The opening sequence took my breath away and I never got it back. Not even at the end - which left my head spinning. It is a beautiful film with soul, wit, charm, style and love. It is simply outrageous! Bold and fantastic and fantastical. I am a straight man but my love for Ryan Gosling could change all that. He's a melancholy genius and Emma Stone is our muse. This film defies genre. It is a masterpiece. I urge you to see it. I was lucky enough to see it at the BFI London Film Festvial. It has been five days since I saw La La Land and I am still thinking about it and singing the haunting refrain that plays with your soul. I mean it gets in there - that music - the music of the firmament. Flying still, dreaming still... thank you Damien. \",\n",
       " u' Writer/Director Damien Chazelle, who already had a nice career going for him, explodes into the Bigtime with this delightful, mesmerizing, and completely unexpected ode to Tinseltown.The opening sequence (satirized on the Golden Globes) really does not do the rest of the film justice. It is as if the cast from the FAME remake grew up, had children of their own, and then those children hijacked the Santa Monica freeway to do a 10 minute flash-mob dance sequence.From that point on, the film is hypnotic.We segue to a love story as pure as anything since the great dramas of the 1940s. If the film had been in B&W, you would almost have expected to see Bette Davis in a 3-hankie tear jerker.Except for the musical interludes, of course, which are pitch perfect and totally wonderful.Gosling is surprising as a leading man expected to do song and dance, but he delivers the goods. Stone, who was supposed to be \"the next big thing\" after Easy A (2010), steals the film and possibly the hearts of the audience as well. The awards should flow like water, and she will deserve every one.As I said, deep in the DNA this is an ode to Hollywood. The film industry has always had issues with endings -- back in the day they would film several different endings per picture -- and then decide at the last minute which to use. Here Chazelle pays homage to that by giving us an alternate ending, along with the \"real\" ending, along with a closing sequence designed to remind everyone that nothing in Hollywood is actually real, but everything still can be really fun.Destined to be a classic. Recommended. ',\n",
       " u'*** This review may contain spoilers ***',\n",
       " u' Yet Another Hollywood Con-job!It ain\\'t \"West Side Story\", which is quite possibly the best musical ever made.It also ain\\'t \"Singing in the Rain\", which is arguably the best postwar musical made in the Hollywood tradition.It also ain\\'t \"Top Hat\", rated by many as the best Rogers/Astaire musical.It also ain\\'t \"Moulin Rouge\", which was a riot of great music, comedy, genuine drama, and emotion.And it ain\\'t even \"Les Mis\\xe9rables\", arguably the finest ever stage musical which was ruined on film by a non-professional singing cast who could barely sing in tune, (Anne Hathaway excepted).As with other \\'duds\\' that are adored by the professional critics and film insiders, such as \"Birdman\" and the recent \"American Honey\", it seems to be yet another case of the \"Kings New Clothes\". Nobody dares to criticize. We are told by the experts that La La Land it is absolutely brilliant and when we go to see it we will swoon in the aisles, barely able to find the superlatives to describe how much we loved it.Yet if you scroll down the user reviews of this smash hit musical, in among the glowing 10 out of ten-star reviews, you will find a fair sprinkling of one-star reviews. Not five or six or seven stars \\x85 no, just 1-stars among the 10-stars.It doesn\\'t make sense \\x96 why do all these people give it ten stars and others only one, with headlines such as \"Painfully Bad Film Musical\", \"They Don\\'t Make Them Like They Used To\", and \"So Disappointed!\" \"Been There, Seen That\" and \"Visceral hatred for a con job\"If you are wondering why is it that some people can love it and others hate it \\x96 go and read some of the one-star reviews. The reviewers are movie lovers, (like me), and many are movie-musical lovers, (like me), and they intelligently articulate with tremendous clarity why La La Land has been ridiculously over-hyped, and why the endless publicity has simply turned 99% of the movie-going public into one enormous flock of sheep.So what\\'s wrong with it?In a single word, it is INSIPID. (Insipid: lacking in qualities that interest, stimulate or challenge; dull, vapid, flat\\x85.)The songs are insipid.Even though I am partial to jazz - and some of the jazz sequences with John Legend do sparkle - in general, the music score is mundane to a fault and the tunes are instantly forgettable.The singing is insipid.Emma Stone and Ryan Gosling do their best, but they are NOT professional singers, and I suspect you could find better singers at any local amateur dramatic musical production. The movie directors of old were smart enough to understand that if their stars cannot sing, such as Natalie Wood in \"West Side Story\", then dub in a decent singer. How many people ever realized that Natalie didn\\'t actually sing those wonderful songs?The dancing by Stone and Gosling is insipid.Again, they do their best but they are NOT professionals. In some sequences, you can almost sense the dance instructors off camera shouting out \"Stop! one step left! one step back!\" and so on. They are sooo\\x85 wooden.The ensemble dancers are pretty much OK, but to be honest, there are no really great, original dance sequences that astonish and astound you- nothing that even comes close to the kind of stuff we have seen in the movie musicals of the past. Frankly, I can see better dance sequences every week in \"Strictly come Dancing\" or \"Dancing with the Stars\" than I saw in La La Land.The story is insipid.It takes forever to get going and for the first half of the movie you have to pinch yourself to keep watching these insipid characters playing out thoroughly unoriginal, utterly boring story. You really don\\'t care what happens to either of them.The Story Struggling actress meets struggling jazz pianist. Pianist makes good, actress dumps him because he opts for \"wealth and fame\" over his musical principles \\x96 whatever that may mean. The actress gives up, and goes home to mom; successful pianist comes to the rescue and persuades her to go to one last audition. Guess what? She makes it and becomes a star, and the two stars go their separate ways.What an enthralling story, don\\'t you think? This review hardly qualifies as one of those containing spoilers, as the story is so insipid.Okay, so is anything good?Yes \\x96 the cinematography and editing are good, as you might expect of a movie with a budget exceeding 30 million dollars. They can afford to hire to very best technicians that money can buy \\x96 and they do.But a good cameraman and a good editor, and a good costume designer and a good set designer, and so on, do not a good movie make. These wonderful technicians were already let down from the start by director Damien Chazelle, who wrote the insipid story and by Justin Hurwitz who penned the insipid music.If you\\'ve got nothing better to do, and like me, you hate all the Hollywood franchise trash that fills our cinema screens these days, then you might do worse than spend a couple of hours snoozing through this piece of insipid, sleep-inducing rubbish.But if you expect to be uplifted and leave with a fine tune ringing in your ears, then you\\'re in for a major disappointment.Unless you\\'re one of the sheep\\x85 baa aah\\x85 ',\n",
       " u' I was interested in seeing this film because not only am I a sucker for a good musical, but I\\'ll admit to being a big fan of Ryan Gosling and I was intrigued to see what the director of Whiplash would do with a musical picture to make it fresh and unique. So when I had the chance to see a late-planned viewing at the London Film Festival, I jumped at the chance (FYI, Ryan Gosling came to the screening as a surprise post- film Q&A attendee despite not appearing at the Headline Gala the night before so I was chuffed!)The premise of the story is that Stone is a young actress who has moved to LA to wait tables while auditioning to try and \\'make it\\', while Gosling is a jazz purist (\"Anyone who doesn\\'t like jazz just doesn\\'t have the right...context\", he insists) who plays the piano in bars to make a living and dreams of opening his own Jazz bar. Or to put it succinctly - \"Two young artists meet and fall in love while chasing their dreams\". The musical flows thematically from first love to heartbreak and every other emotion between, with great music throughout.The most impressive thing about the film, for me, is just how daringly it dances between the old-fashioned \"Singing\\' In The Rain\" style of musical, and a bolder, modern style. The song numbers are great (the opening number received a round of applause in my viewing) and are an undoubted homage to classic musicals - a thoughtful mixture of old school dance numbers you\\'d expect from a musical in the 50s, and emotionally-wrenching ballads that hit you where it hurts; there is one particular sequence toward the end of the film which is a real gut-punch. Stylistically the film skirts this same line; the film again looks and acts like a classic musical but frequently we see low-key reminders that this is modern day; actresses using their iPhones, a video being seen on Youtube, etc to remind us that this is set in the present day. If we didn\\'t have these reminders, the visuals would almost have you thinking that this is the 1950s. The cinematography is beautiful and overall the film is visually stunning. There is also no doubt that it is wonderfully directed, with the same masterful control of pace and tension that we come to expect from Damien Chazelle thanks to Whiplash.Gosling in particular is absolutely terrific, with a typically sardonic wit throughout. At the start of the film when his sister says she\\'s worried about him as life seems to have him on the ropes, he responds \"I wanna be on the ropes. I\\'m just letting life think it has me and then before you know it - BAM. It\\'s a classic rope-a-dope\". His delivery of these sorts of lines can\\'t be matched, and it\\'s easy to see why the producers said in the post-film Q&A that he was the person they wanted for the role in their wildest dreams. It\\'s a role made for him with tons more of the above kind of lines. But more than that, Gosling captures a real emotional intensity at the film\\'s emotional breaking points, more specifically in the sequence towards the end of the film that I mentioned earlier. He manages to convey such convincing emotion without so much as a word.I\\'d feel bad if I didn\\'t also praise Emma Stone, who has probably never been better. She has wonderful emotional range, from the ecstatic highs of love to the tearful, painful lows. In terms of the Gosling/Stone films, this is by far the best. Their undoubted chemistry is given the full spotlight in this film with freedom to explore said chemistry without restriction. The film is ultimately everything it had the potential to be - an unashamedly romantic musical, infused not only with great song and dance numbers but with intense emotion and charisma from Gosling/Stone, wonderful visuals and a unique pacing and tension from Chazelle. Oh, and it\\'s hilarious throughout too. A genuine achievement - must be one of the best films I\\'ve seen in a long while. I\\'m annoyed I\\'ll have to wait so long to see it again, frankly.Will surely win multiple Oscars and other awards. ',\n",
       " u'*** This review may contain spoilers ***',\n",
       " u' I love musicals, but I must have missed the stand in the theater where they were handing our the kool-aid for this one. Based on the hype, I had high expectations. I went in thinking \"La La Land\" would be like \"An American in Paris\" or \"The Bandwagon,\" but once it started I realized it was more like \"One From the Heart,\" or \"Everyone Says I Love You,\" although both of those dismal failures had better music. In this film, Ryan Gosling plays a supercilious piano-playing bore who endlessly pontificates about \"jazz.\" Emma Stone plays his vapid love interest, a star-struck barista who thinks she should be a movie star because she has a home filled with movie posters and her aunt once showed her \"Casablanca.\" Once these two ciphers meet, the audience is subjected the kind of dreary conversation one flees from in real life.The musical score is deeply uninteresting. Emma and Ryan\\'s hilltop dance is supposed to be reminiscent of Fred Astaire and Cyd Charisse/Ginger Rogers, but comes closer to Teri Garr and Raul Julia in the aforementioned Coppola disaster. By the way, the film completely fails to capture L.A. in any way.Kudos to Emma and Ryan for trying to sing and dance, unfortunately proving that it takes MORE talent than they or most other Hollywood celebrities have to perform in a musical. However, I think that Damien Chazelle should be prevented from ever making another film musical. If you insist on subjecting yourself to an excruciatingly bad musical, try \"The Apple,\" which is a lot more fun and has better music. To check out good-to-great musicals, see the movies that \"inspired\" La La Land--the RKO Fred & Ginger movies and the MGM musicals from the 30\\'s through 50\"s. Even the recent straight-to-video \"Lucky Stiff\" leaves \"La La Land\" in the dust. ',\n",
       " u'*** This review may contain spoilers ***',\n",
       " u' La La Land is a triumph on so many levels. It hooks you from the beginning with its big opening number on the highway and has your heart fluttering in the club at the end. Damien Chazelle has proved himself to be one of the most talented directors/screenwriters in film right now.The film gets you with its charm. It flows from the dialogue like poetry. The chemistry between Stone and Gosling makes the film livelier. Stone has slowly shown herself as a force to be reckon with in Hollywood and now Gosling has join the ranks after his stellar performance as the jazz pianist who\\'s main dream is watch jazz live on. Stone is a wanna be actress who can\\'t find her way. Together, they thrive off each other\\'s love and support as they try to accomplish their goals together. Each have a chance at their first Oscar gold.What else helps is a beautiful score and extremely well written songs. I found myself humming \"City of Stars\" all night long, already saving the soundtrack on every music platform I could. The music and dance numbers are a perfect blend of Gene Kelly musicals and more contemporary stuff like Chicago. The production design helps with this with bright, vivid colors abound from the walls of a passing building to Emma Stone\\'s dress. A charming film only works when all cylinders click. This one was clockwork.Like Whiplash, the editing is superb, timing well with the score, making it very appealing to the eye. But the cinematography was mind blowing. Able to capture those big production numbers with long swift cuts made it very astonishing. Not a moment seemed overlooked or underdeveloped. Each scene was extremely well thought out to cause the biggest \"awe\" effect, or to provide strong symbolism. But the ending is what can really make or break a movie. This one makes it 10x better. It goes away from the predictable musical ending while wrapping up the movie in fellow swoop, opening the audiences\\' eyes to the entire meaning of the story, beyond the theme of follow your dreams. The idea that dreams are possible when you are willing to strive for them, but life isn\\'t your own la la land. Everything does not end perfectly.When combining all these elements together, you get one of, if not the best film of the year. In a year where things became bitter, this really ends the year on a high note. Cheers to the dreamers, the men and women behind the making of this musical classic. ',\n",
       " u'*** This review may contain spoilers ***',\n",
       " u' I was greatly looking forward to this movie.I had read many reviews and \\r they all seemed very positive.In fact when I read my newspaper\\'s \\r critique is was given 4/4 which is unusual. How let down I am. This was \\r the worst movie I have seen this year.And we saw it in a VIP theatre.It \\r was so slow moving that I felt myself falling asleep. I kept looking at \\r my watch saying \"only another 1/2 hour.\" Ryan Gosling cannot really \\r sing & dance.And Emma Stone may be very photogenic & a good actress but \\r she also is not much of a singer/dancer.There are wonderful musicals \\r such as The amazing \"West Side Story\",the wonderful \"Grease\\' Chicago \\r was terrific to watch also as well as \"Hairspray\" with Jennifer Hudson \\r & \\'Mama Mia\" with Meryl Streep.But this mess was a dud. The plot was \\r simple but its execution was a dismal failure.I cannot figure out all \\r the accolades this movie is getting from the Golden Globes,critics,& \\r user reviews. A few hours after this film,I cant really remember \\r anything worthwhile.Do not waste your money on this film whatever the \\r critics say.It is boring,non believable,& you wont really care about \\r the characters. ',\n",
       " u'*** This review may contain spoilers ***',\n",
       " u' Sorry but I grew up living and loving musicals but this is tripe. None of the \"stars\" are of the expected style or standard. The story is grotesquely poor and without logic. Gosling is pathetic, I kept wanting someone to slam the keyboard cover down on his hands, Stones voice left me praying for a good dose of pharyngitis. In short neither can sing or dance yet the Hollywood promo machine keep telling us how great it is and people believe it. In short i wasted 2 hours, 7 minutes and 3 seconds of my life. For our Australian summer releases it rates nearly as bad as Passengers.Don\\'t bother wasting the ticket money. ',\n",
       " u'*** This review may contain spoilers ***',\n",
       " u' While looking forward to seeing this film but having no real expectations, the film was excruciatingly painful to sit through and I like musicals. Being a former film student,I found this film slow, boring, uneventful and at least an hour too long with unappealing characters. At a point in the film, Ryan Gosling\\'s character looks out over L.A. and says \"not much to look at\". I said to my wife, \"my thoughts exactly\" (referring to the film-not L.A.). This made musicals like \\'Lost Horizon\\' and \\'At Long Last Love\\' look like cinematic greatness (and I enjoyed those). They certainly don\\'t make them like they used to. ',\n",
       " u'*** This review may contain spoilers ***',\n",
       " u' Tone of the movie wavers between serious and quirky, never making a definitive choice; as such it succeeds at neither. Far too many \"homages\" to other movies to stand on its own. Tries to play on LA stereotypes, but the commentary on them only comes across as \"making sure each clich\\xe9 is thrown in the movie somewhere,\" thereby ensuring that the movie itself exemplifies the most prevalent LA stereotype: style over substance. Liked the \"alternate reality\" sequence if only for the fact that it was the one moment in the movie where it tried to say something interesting about life and because I could pretend to be in some other reality where I wasn\\'t watching this movie. ',\n",
       " u'Add another review']"
      ]
     },
     "execution_count": 133,
     "metadata": {},
     "output_type": "execute_result"
    }
   ],
   "source": [
    "div = soup.find('div', attrs = {'id' : 'tn15content'}).find_all('p')\n",
    "\n",
    "\n",
    "Comment_search('la la land','m')"
   ]
  },
  {
   "cell_type": "code",
   "execution_count": 130,
   "metadata": {
    "collapsed": false
   },
   "outputs": [
    {
     "data": {
      "text/plain": [
       "{u'Actors': u'Karina Arroyave, Dato Bakhtadze, Sandra Bullock, Don Cheadle',\n",
       " u'Awards': u'Won 3 Oscars. Another 61 wins & 105 nominations.',\n",
       " u'Country': u'Germany, USA',\n",
       " u'Director': u'Paul Haggis',\n",
       " u'Genre': u'Crime, Drama, Thriller',\n",
       " u'Language': u'English, Persian, Spanish, Mandarin, Korean',\n",
       " u'Metascore': u'69',\n",
       " u'Plot': u'Los Angeles citizens with vastly separate lives collide in interweaving stories of race, loss and redemption.',\n",
       " u'Poster': u'https://images-na.ssl-images-amazon.com/images/M/MV5BOTk1OTA1MjIyNV5BMl5BanBnXkFtZTcwODQxMTkyMQ@@._V1_SX300.jpg',\n",
       " u'Rated': u'R',\n",
       " u'Released': u'06 May 2005',\n",
       " u'Response': u'True',\n",
       " u'Runtime': u'112 min',\n",
       " u'Title': u'Crash',\n",
       " u'Type': u'movie',\n",
       " u'Writer': u'Paul Haggis (story), Paul Haggis (screenplay), Robert Moresco (screenplay)',\n",
       " u'Year': u'2004',\n",
       " u'imdbID': u'tt0375679',\n",
       " u'imdbRating': u'7.8',\n",
       " u'imdbVotes': u'370,169'}"
      ]
     },
     "execution_count": 130,
     "metadata": {},
     "output_type": "execute_result"
    }
   ],
   "source": [
    "Movie_info_search('crash')"
   ]
  },
  {
   "cell_type": "code",
   "execution_count": null,
   "metadata": {
    "collapsed": true
   },
   "outputs": [],
   "source": []
  }
 ],
 "metadata": {
  "anaconda-cloud": {},
  "kernelspec": {
   "display_name": "Python [default]",
   "language": "python",
   "name": "python2"
  },
  "language_info": {
   "codemirror_mode": {
    "name": "ipython",
    "version": 2
   },
   "file_extension": ".py",
   "mimetype": "text/x-python",
   "name": "python",
   "nbconvert_exporter": "python",
   "pygments_lexer": "ipython2",
   "version": "2.7.12"
  }
 },
 "nbformat": 4,
 "nbformat_minor": 1
}
