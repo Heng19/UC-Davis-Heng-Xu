{
 "cells": [
  {
   "cell_type": "code",
   "execution_count": 1,
   "metadata": {
    "collapsed": true
   },
   "outputs": [],
   "source": [
    "import requests_cache\n",
    "import os\n",
    "import re\n",
    "from urllib2 import Request, urlopen\n",
    "import pandas as pd\n",
    "import json\n",
    "import requests\n",
    "from matplotlib import pyplot as plt\n",
    "plt.style.use('ggplot')\n",
    "%matplotlib inline"
   ]
  },
  {
   "cell_type": "code",
   "execution_count": null,
   "metadata": {
    "collapsed": true
   },
   "outputs": [],
   "source": [
    "def search(key,q):\n",
    "    ''' Seach the food information from USDA\n",
    "    Args: key(string) for the password,q(string) for the search name\n",
    "    \n",
    "    Returns:response(json) for the search result. If there is not result, return None\n",
    "    \n",
    "    '''\n",
    "    url = 'https://api.themoviedb.org/3'\n",
    "    response = requests.get(url, params = {'q':q,\n",
    "                                          '_sort':'r',\n",
    "                                          'api_key':key,\n",
    "                                           'format':'json'\n",
    "                                            })\n",
    "    try:\n",
    "        response = response.json()['list']['item']\n",
    "    except:\n",
    "        return []\n",
    "    \n",
    "    return response"
   ]
  },
  {
   "cell_type": "code",
   "execution_count": 21,
   "metadata": {
    "collapsed": false
   },
   "outputs": [],
   "source": [
    "response = requests.get('https://api.themoviedb.org/3/movie/550?api_key=0149893a207211eb2778cdae6c5c06f9&_imdb_id = 1345836')"
   ]
  },
  {
   "cell_type": "code",
   "execution_count": 23,
   "metadata": {
    "collapsed": false
   },
   "outputs": [
    {
     "data": {
      "text/plain": [
       "{u'adult': False,\n",
       " u'backdrop_path': u'/wSJPjqp2AZWQ6REaqkMuXsCIs64.jpg',\n",
       " u'belongs_to_collection': None,\n",
       " u'budget': 63000000,\n",
       " u'genres': [{u'id': 18, u'name': u'Drama'}],\n",
       " u'homepage': u'http://www.foxmovies.com/movies/fight-club',\n",
       " u'id': 550,\n",
       " u'imdb_id': u'tt0137523',\n",
       " u'original_language': u'en',\n",
       " u'original_title': u'Fight Club',\n",
       " u'overview': u'A ticking-time-bomb insomniac and a slippery soap salesman channel primal male aggression into a shocking new form of therapy. Their concept catches on, with underground \"fight clubs\" forming in every town, until an eccentric gets in the way and ignites an out-of-control spiral toward oblivion.',\n",
       " u'popularity': 13.488462,\n",
       " u'poster_path': u'/adw6Lq9FiC9zjYEpOqfq03ituwp.jpg',\n",
       " u'production_companies': [{u'id': 508, u'name': u'Regency Enterprises'},\n",
       "  {u'id': 711, u'name': u'Fox 2000 Pictures'},\n",
       "  {u'id': 20555, u'name': u'Taurus Film'},\n",
       "  {u'id': 54050, u'name': u'Linson Films'},\n",
       "  {u'id': 54051, u'name': u'Atman Entertainment'},\n",
       "  {u'id': 54052, u'name': u'Knickerbocker Films'}],\n",
       " u'production_countries': [{u'iso_3166_1': u'DE', u'name': u'Germany'},\n",
       "  {u'iso_3166_1': u'US', u'name': u'United States of America'}],\n",
       " u'release_date': u'1999-10-15',\n",
       " u'revenue': 100853753,\n",
       " u'runtime': 139,\n",
       " u'spoken_languages': [{u'iso_639_1': u'en', u'name': u'English'}],\n",
       " u'status': u'Released',\n",
       " u'tagline': u\"How much can you know about yourself if you've never been in a fight?\",\n",
       " u'title': u'Fight Club',\n",
       " u'video': False,\n",
       " u'vote_average': 8.1,\n",
       " u'vote_count': 6478}"
      ]
     },
     "execution_count": 23,
     "metadata": {},
     "output_type": "execute_result"
    }
   ],
   "source": [
    "response.json()"
   ]
  }
 ],
 "metadata": {
  "kernelspec": {
   "display_name": "Python [conda root]",
   "language": "python",
   "name": "conda-root-py"
  },
  "language_info": {
   "codemirror_mode": {
    "name": "ipython",
    "version": 2
   },
   "file_extension": ".py",
   "mimetype": "text/x-python",
   "name": "python",
   "nbconvert_exporter": "python",
   "pygments_lexer": "ipython2",
   "version": "2.7.12"
  }
 },
 "nbformat": 4,
 "nbformat_minor": 1
}
