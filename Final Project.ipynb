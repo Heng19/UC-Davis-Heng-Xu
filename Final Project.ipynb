{
 "cells": [
  {
   "cell_type": "code",
   "execution_count": 1,
   "metadata": {
    "collapsed": true
   },
   "outputs": [],
   "source": [
    "import scrapy\n",
    "import json\n",
    "import requests\n",
    "import requests_cache\n",
    "import numpy as np\n",
    "import pandas as pd\n",
    "import seaborn as sns\n",
    "import urlparse\n",
    "import csv\n",
    "import os\n",
    "import os.path\n",
    "from bs4 import BeautifulSoup\n",
    "import sys\n",
    "from lxml import html\n",
    "import lxml.html as lx\n",
    "\n",
    "requests_cache.install_cache('demo_cache')"
   ]
  },
  {
   "cell_type": "code",
   "execution_count": 2,
   "metadata": {
    "collapsed": true
   },
   "outputs": [],
   "source": [
    "def box_search(year):\n",
    "    \n",
    "    base_url = 'http://www.boxofficemojo.com/yearly/chart/?yr='\n",
    "    url = base_url + str(year)\n",
    "    page = requests.get(url)\n",
    "    soup = BeautifulSoup(page.text, 'lxml')\n",
    " \n",
    "    res_2 = soup.find_all('td')\n",
    "    names = []\n",
    "    box = []\n",
    "    studio = []\n",
    "    for i in range(0,100):\n",
    "        \n",
    "        names.append(res_2[21+9*i].find_all('b')[0].text)\n",
    "        box.append(res_2[23+9*i].find_all('b')[0].text)\n",
    "        studio.append(res_2[22+9*i].find_all('a')[0].text)\n",
    "        \n",
    "        params = {'year':year, 'name':names, 'box':box,}\n",
    "    \n",
    "    return pd.DataFrame(params)"
   ]
  },
  {
   "cell_type": "code",
   "execution_count": 3,
   "metadata": {
    "collapsed": false
   },
   "outputs": [],
   "source": [
    "def popular_movie(year,pages,num):\n",
    "    count = 0\n",
    "    names = []\n",
    "    \n",
    "    for i in range(1,(pages+1)):\n",
    "        url = \"http://www.imdb.com/search/title?sort=moviemeter,asc&title_type=feature&year=\" + str(year) + \",\" +str(year) + \"&\" + \"page=\" + str(i) + \"&\" + \"ref_=adv_prv\"        \n",
    "        r = requests.get(url)\n",
    "        soup = BeautifulSoup(r.content, \"html.parser\")\n",
    "        search_results = soup.find_all(\"p\", class_=\"sort-num_votes-visible\")\n",
    "        vote = int(search_results[0].find_all('span')[1].text.replace(',',''))\n",
    "        soup = BeautifulSoup(r.content, \"html.parser\")\n",
    "        search_results = soup.find_all(\"div\", class_=\"lister-item-content\")\n",
    "        \n",
    "\n",
    "        for result in search_results:\n",
    "            try:\n",
    "                vote = int(result.find_all('p')[3].find_all('span')[1].text.replace(',',''))\n",
    "                if vote < 10000:\n",
    "                    continue\n",
    "            except:\n",
    "                continue\n",
    "            header = result.find(\"h3\", class_=\"lister-item-header\")\n",
    "            title = header.a\n",
    "            b = title.get_text().encode('utf-8')\n",
    "            names.append(b)\n",
    "            count = count + 1\n",
    "            if count == num:\n",
    "                return names\n",
    "            \n",
    "    return names"
   ]
  },
  {
   "cell_type": "code",
   "execution_count": 4,
   "metadata": {
    "collapsed": true
   },
   "outputs": [],
   "source": [
    "def movie_search(term):\n",
    "    \n",
    "    url = 'http://www.omdbapi.com/'\n",
    "    \n",
    "    params = {'t':term}\n",
    "    a_final = \"&\".join(\"{}={}\".format(a,b) for a,b in params.items())\n",
    "    url_final = url + '?' + a_final\n",
    "    \n",
    "    response = requests.get(url_final)\n",
    "    js = response.json()\n",
    "    \n",
    "    return js"
   ]
  },
  {
   "cell_type": "code",
   "execution_count": 5,
   "metadata": {
    "collapsed": false
   },
   "outputs": [],
   "source": [
    "def rating_ratio(movie):\n",
    "    \n",
    "    imdb = movie_search(movie).values()[-1]\n",
    "    url = 'http://www.imdb.com/title/' + str(imdb) + '/ratings?ref_=tt_ov_rt'\n",
    "    r = requests.get(url)\n",
    "    soup = BeautifulSoup(r.content, \"html.parser\")\n",
    "    res_2 = soup.find_all('td')\n",
    "    \n",
    "    rates = []\n",
    "    for i in xrange(14):\n",
    "        string = res_2[38 + 3*i].find_all('img')[0].text\n",
    "        string = string.replace(u'\\xa0', u'')\n",
    "        string  = str(string)\n",
    "        rates.append(string)\n",
    "        \n",
    "    params = {'males':rates[0], 'females':rates[1],'<18':rates[2], 'males<18':rates[3],'females<18':rates[4], '18-29':rates[5],'males 18-29':rates[6], 'females 18-29':rates[7],'30-44':rates[8],'males 30-44':rates[9], 'females 30-44':rates[10], '45+':rates[11],'males 45+':rates[12], 'females 45+':rates[13]}\n",
    "    return params"
   ]
  },
  {
   "cell_type": "code",
   "execution_count": 6,
   "metadata": {
    "collapsed": false
   },
   "outputs": [
    {
     "data": {
      "text/plain": [
       "{'18-29': '7.2',\n",
       " '30-44': '7.1',\n",
       " '45+': '7.2',\n",
       " '<18': '7.7',\n",
       " 'females': '7.5',\n",
       " 'females 18-29': '7.5',\n",
       " 'females 30-44': '7.5',\n",
       " 'females 45+': '7.7',\n",
       " 'females<18': '8.0',\n",
       " 'males': '7.1',\n",
       " 'males 18-29': '7.1',\n",
       " 'males 30-44': '7.1',\n",
       " 'males 45+': '7.2',\n",
       " 'males<18': '7.5'}"
      ]
     },
     "execution_count": 6,
     "metadata": {},
     "output_type": "execute_result"
    }
   ],
   "source": [
    "rating_ratio('Sing')"
   ]
  },
  {
   "cell_type": "code",
   "execution_count": null,
   "metadata": {
    "collapsed": true
   },
   "outputs": [],
   "source": []
  }
 ],
 "metadata": {
  "anaconda-cloud": {},
  "kernelspec": {
   "display_name": "Python [default]",
   "language": "python",
   "name": "python2"
  },
  "language_info": {
   "codemirror_mode": {
    "name": "ipython",
    "version": 2
   },
   "file_extension": ".py",
   "mimetype": "text/x-python",
   "name": "python",
   "nbconvert_exporter": "python",
   "pygments_lexer": "ipython2",
   "version": "2.7.12"
  }
 },
 "nbformat": 4,
 "nbformat_minor": 1
}
